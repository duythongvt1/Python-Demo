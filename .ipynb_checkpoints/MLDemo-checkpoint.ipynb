{
 "cells": [
  {
   "cell_type": "code",
   "execution_count": 3,
   "metadata": {},
   "outputs": [],
   "source": [
    "from sklearn.datasets import make_classification\n"
   ]
  },
  {
   "cell_type": "code",
   "execution_count": 8,
   "metadata": {},
   "outputs": [],
   "source": [
    "import pandas as pd"
   ]
  },
  {
   "cell_type": "code",
   "execution_count": 52,
   "metadata": {},
   "outputs": [],
   "source": [
    "X, y = make_classification(n_features=3, n_redundant=0, n_informative=2,n_classes = 3,\n",
    "                           random_state=1, n_clusters_per_class=1)"
   ]
  },
  {
   "cell_type": "code",
   "execution_count": 53,
   "metadata": {},
   "outputs": [
    {
     "data": {
      "text/plain": [
       "array([1, 0, 0, 0, 1, 2, 0, 2, 2, 1, 2, 0, 1, 2, 1, 0, 1, 1, 0, 1, 1, 1,\n",
       "       2, 2, 0, 2, 2, 2, 2, 1, 2, 0, 1, 1, 0, 2, 0, 2, 0, 1, 0, 1, 2, 1,\n",
       "       1, 2, 0, 0, 0, 2, 0, 2, 0, 0, 2, 0, 1, 1, 0, 2, 2, 0, 2, 0, 1, 1,\n",
       "       1, 1, 0, 0, 0, 2, 0, 1, 1, 0, 1, 2, 2, 0, 1, 0, 2, 2, 2, 1, 2, 1,\n",
       "       1, 1, 0, 2, 2, 0, 2, 0, 0, 0, 1, 1])"
      ]
     },
     "execution_count": 53,
     "metadata": {},
     "output_type": "execute_result"
    }
   ],
   "source": [
    "X\n",
    "y"
   ]
  },
  {
   "cell_type": "code",
   "execution_count": 54,
   "metadata": {},
   "outputs": [
    {
     "data": {
      "text/plain": [
       "array([[-8.49671873e-01, -1.44087602e+00,  8.88389445e-01],\n",
       "       [ 1.03334100e+00, -1.18231813e+00,  1.18559003e+00],\n",
       "       [ 1.03345052e+00,  1.09402696e-01,  1.46893146e+00],\n",
       "       [ 1.06796368e+00, -2.03394449e-01,  5.63077902e-01],\n",
       "       [-1.73963799e+00,  7.58805660e-01,  1.22867367e+00],\n",
       "       [-7.98290840e-01, -6.80678141e-01, -4.25414106e-01],\n",
       "       [ 1.10018476e+00, -4.34956683e-01,  9.80427414e-01],\n",
       "       [-5.27061542e-01,  6.21803504e-01,  6.05636167e-01],\n",
       "       [-8.64737242e-01,  1.12341216e+00, -8.61191419e-01],\n",
       "       [-1.18913787e+00,  2.62467445e-01,  6.23688521e-01],\n",
       "       [-7.21683459e-01, -7.81911683e-01, -2.68226726e-01],\n",
       "       [ 6.06604307e-01, -1.20464572e-01,  5.69983848e-01],\n",
       "       [-4.93856997e-01,  8.84908814e-01,  1.66752297e+00],\n",
       "       [-1.01738518e+00,  2.11124755e-01, -1.19117028e+00],\n",
       "       [-1.13742855e+00,  1.34048197e-01,  6.21530991e-01],\n",
       "       [ 9.64350564e-01, -1.23685338e+00,  1.77547698e+00],\n",
       "       [-6.82430193e-01, -8.67787223e-01,  1.44682180e+00],\n",
       "       [-6.23732812e-01, -3.74438319e-01,  1.25704434e+00],\n",
       "       [ 8.50637963e-01, -3.10984978e-01,  4.46895161e-01],\n",
       "       [-5.42459922e-01,  2.84748111e-01,  1.34740825e+00],\n",
       "       [-8.07724808e-01,  3.66332015e-01,  1.22421253e+00],\n",
       "       [-6.27546260e-01,  1.23225307e+00,  1.37661405e+00],\n",
       "       [-1.06297997e+00,  6.07501958e-02, -1.29905324e+00],\n",
       "       [-6.47123989e-01,  1.39984394e+00,  1.83178206e-01],\n",
       "       [ 1.17718111e+00,  2.01830179e-01,  1.14377130e+00],\n",
       "       [ 5.70194125e-02, -2.97361883e-01,  2.21915674e+00],\n",
       "       [-1.26335056e+00,  3.05267040e-01, -1.87663405e+00],\n",
       "       [-6.80561088e-01, -8.45080274e-02, -1.94075772e-01],\n",
       "       [-1.03106689e+00,  8.09271010e-02, -1.05752257e+00],\n",
       "       [-4.02187529e-01,  6.18539131e-01,  1.16154107e+00],\n",
       "       [-1.03771759e+00, -5.68244809e-02, -8.88933041e-01],\n",
       "       [ 7.71514409e-01,  6.61020288e-01,  3.45715997e-01],\n",
       "       [-7.60458095e-01, -7.33271604e-01,  6.13636707e-01],\n",
       "       [-1.46662161e+00,  8.36004719e-01,  8.78740711e-01],\n",
       "       [ 1.08480038e+00,  1.40754000e+00,  1.64661853e+00],\n",
       "       [-9.51198921e-01,  1.77187720e-01, -1.33404853e+00],\n",
       "       [ 1.21828168e+00, -1.98837863e-01,  9.64572049e-01],\n",
       "       [-1.36220089e+00,  4.17302005e-01, -2.15649153e+00],\n",
       "       [ 1.32551412e+00, -5.86523939e-01,  1.83829400e+00],\n",
       "       [-7.73827508e-01,  5.85662000e-01,  9.18199244e-01],\n",
       "       [ 1.17456965e+00, -6.65754518e-01,  6.92114488e-01],\n",
       "       [-1.46371364e+00,  2.05117344e+00,  8.08912529e-01],\n",
       "       [-6.44735145e-02,  7.84770651e-01,  1.54574396e+00],\n",
       "       [-8.70935064e-01,  1.06222724e-01,  1.29237273e+00],\n",
       "       [-1.18068102e+00, -4.43171931e-01,  1.18211008e+00],\n",
       "       [-8.29323503e-01, -1.86578994e-01, -3.07082311e-01],\n",
       "       [ 7.04557071e-01,  2.42669441e-01,  1.39198128e+00],\n",
       "       [ 9.15884042e-01, -1.67419581e+00,  7.90323893e-01],\n",
       "       [ 1.17899425e+00, -1.21974440e+00,  1.17867274e+00],\n",
       "       [-8.35172722e-01, -2.79097722e-01, -6.11856063e-01],\n",
       "       [-9.48771127e-01, -8.80577600e-01, -7.32477030e-01],\n",
       "       [-4.84412724e-01,  5.85910431e-01,  4.34900776e-01],\n",
       "       [ 9.31717197e-01,  2.44936865e+00,  7.83440538e-01],\n",
       "       [ 1.13872896e+00, -5.45774168e-01,  8.57296491e-01],\n",
       "       [-8.28367462e-01, -1.11647002e+00, -5.21381613e-01],\n",
       "       [ 1.17353145e+00,  1.29101580e-01,  1.14809657e+00],\n",
       "       [-1.64162479e+00, -8.77281519e-01,  7.61706684e-01],\n",
       "       [-8.80495597e-01, -6.06998398e-01,  1.07838382e+00],\n",
       "       [ 6.17714185e-01, -8.61316361e-01,  1.02817479e+00],\n",
       "       [-8.68039581e-01,  4.92336556e-01, -5.85403729e-01],\n",
       "       [-8.47426713e-01, -5.99804531e-01, -6.82611170e-01],\n",
       "       [ 8.91891405e-01,  1.61694960e+00,  8.76994650e-01],\n",
       "       [-9.51294017e-01, -9.55425262e-01, -8.22183226e-01],\n",
       "       [ 7.51480619e-01,  8.25029824e-01,  1.06702918e+00],\n",
       "       [-1.16546310e+00,  4.29526140e-01,  9.35412824e-01],\n",
       "       [-1.00751980e+00, -1.52568032e+00,  1.38668500e+00],\n",
       "       [-9.07318361e-01,  1.20205486e+00,  1.06040861e+00],\n",
       "       [-8.82869820e-01,  1.54335911e+00,  8.15836116e-01],\n",
       "       [ 1.01313574e+00,  8.75838928e-01,  1.16777676e+00],\n",
       "       [ 1.00277655e+00, -1.89148284e-03,  1.24549398e+00],\n",
       "       [ 1.06821044e+00, -7.00398505e-01,  7.73703613e-01],\n",
       "       [-4.85578637e-01, -6.94693595e-01,  1.35050618e-01],\n",
       "       [ 8.21783210e-01,  1.55880554e+00,  1.18947778e+00],\n",
       "       [-1.20257258e+00, -2.54179868e-01,  6.91743730e-01],\n",
       "       [-8.33171910e-01,  1.81053491e+00,  4.44716039e-01],\n",
       "       [ 8.14051347e-01, -4.98213564e-01,  8.88838813e-01],\n",
       "       [-9.44959948e-01,  2.76499305e-01,  6.10942600e-01],\n",
       "       [-1.49848963e+00, -1.47115693e+00, -2.39490741e+00],\n",
       "       [-7.11283684e-01,  2.06578332e+00, -1.62767330e-01],\n",
       "       [ 9.65482331e-01, -1.39662042e+00,  1.18468624e+00],\n",
       "       [-8.90791777e-01, -2.30839743e-01,  9.94855129e-01],\n",
       "       [ 8.78099103e-01, -1.23312074e+00,  8.95510508e-01],\n",
       "       [-8.01031365e-01,  9.54250872e-02, -6.29033195e-01],\n",
       "       [-1.05142880e+00, -4.37508983e-01, -1.11545575e+00],\n",
       "       [-8.31907906e-01,  9.21450069e-01, -5.81291040e-01],\n",
       "       [-1.08902778e+00,  1.93752881e+00,  9.89945776e-01],\n",
       "       [-6.41548422e-01,  1.33526763e-02, -1.23210810e-01],\n",
       "       [-1.20206221e+00, -1.04458938e+00,  1.25140816e+00],\n",
       "       [-1.00367144e+00, -1.30572692e+00,  1.26222698e+00],\n",
       "       [-1.19034270e+00, -3.44987210e-01,  1.14046978e+00],\n",
       "       [ 1.03436581e+00,  6.74711526e-01,  2.07582971e+00],\n",
       "       [-8.89476823e-01,  1.62284909e+00, -6.89963866e-01],\n",
       "       [-7.53335777e-01,  1.65275673e-02,  1.73998894e-01],\n",
       "       [ 1.10863359e+00,  1.79215821e+00,  1.16755486e+00],\n",
       "       [-1.01065089e+00, -8.30171895e-01, -1.30281442e+00],\n",
       "       [ 1.24328724e+00,  1.11438298e+00,  1.07258847e+00],\n",
       "       [ 9.03945451e-01,  5.02740882e-01,  3.54133613e-01],\n",
       "       [ 1.22382712e+00,  6.23362177e-01,  1.98519313e+00],\n",
       "       [-1.23017555e+00,  7.95026094e-01,  1.06523311e+00],\n",
       "       [-1.12534265e+00, -2.79308500e+00,  1.06322626e+00]])"
      ]
     },
     "execution_count": 54,
     "metadata": {},
     "output_type": "execute_result"
    }
   ],
   "source": [
    "X"
   ]
  },
  {
   "cell_type": "code",
   "execution_count": 55,
   "metadata": {},
   "outputs": [
    {
     "data": {
      "text/html": [
       "<div>\n",
       "<style scoped>\n",
       "    .dataframe tbody tr th:only-of-type {\n",
       "        vertical-align: middle;\n",
       "    }\n",
       "\n",
       "    .dataframe tbody tr th {\n",
       "        vertical-align: top;\n",
       "    }\n",
       "\n",
       "    .dataframe thead th {\n",
       "        text-align: right;\n",
       "    }\n",
       "</style>\n",
       "<table border=\"1\" class=\"dataframe\">\n",
       "  <thead>\n",
       "    <tr style=\"text-align: right;\">\n",
       "      <th></th>\n",
       "      <th>f1</th>\n",
       "      <th>f2</th>\n",
       "      <th>f3</th>\n",
       "      <th>output</th>\n",
       "    </tr>\n",
       "  </thead>\n",
       "  <tbody>\n",
       "    <tr>\n",
       "      <th>0</th>\n",
       "      <td>-0.849672</td>\n",
       "      <td>-1.440876</td>\n",
       "      <td>0.888389</td>\n",
       "      <td>1</td>\n",
       "    </tr>\n",
       "    <tr>\n",
       "      <th>1</th>\n",
       "      <td>1.033341</td>\n",
       "      <td>-1.182318</td>\n",
       "      <td>1.185590</td>\n",
       "      <td>0</td>\n",
       "    </tr>\n",
       "    <tr>\n",
       "      <th>2</th>\n",
       "      <td>1.033451</td>\n",
       "      <td>0.109403</td>\n",
       "      <td>1.468931</td>\n",
       "      <td>0</td>\n",
       "    </tr>\n",
       "    <tr>\n",
       "      <th>3</th>\n",
       "      <td>1.067964</td>\n",
       "      <td>-0.203394</td>\n",
       "      <td>0.563078</td>\n",
       "      <td>0</td>\n",
       "    </tr>\n",
       "    <tr>\n",
       "      <th>4</th>\n",
       "      <td>-1.739638</td>\n",
       "      <td>0.758806</td>\n",
       "      <td>1.228674</td>\n",
       "      <td>1</td>\n",
       "    </tr>\n",
       "    <tr>\n",
       "      <th>5</th>\n",
       "      <td>-0.798291</td>\n",
       "      <td>-0.680678</td>\n",
       "      <td>-0.425414</td>\n",
       "      <td>2</td>\n",
       "    </tr>\n",
       "    <tr>\n",
       "      <th>6</th>\n",
       "      <td>1.100185</td>\n",
       "      <td>-0.434957</td>\n",
       "      <td>0.980427</td>\n",
       "      <td>0</td>\n",
       "    </tr>\n",
       "    <tr>\n",
       "      <th>7</th>\n",
       "      <td>-0.527062</td>\n",
       "      <td>0.621804</td>\n",
       "      <td>0.605636</td>\n",
       "      <td>2</td>\n",
       "    </tr>\n",
       "    <tr>\n",
       "      <th>8</th>\n",
       "      <td>-0.864737</td>\n",
       "      <td>1.123412</td>\n",
       "      <td>-0.861191</td>\n",
       "      <td>2</td>\n",
       "    </tr>\n",
       "    <tr>\n",
       "      <th>9</th>\n",
       "      <td>-1.189138</td>\n",
       "      <td>0.262467</td>\n",
       "      <td>0.623689</td>\n",
       "      <td>1</td>\n",
       "    </tr>\n",
       "    <tr>\n",
       "      <th>10</th>\n",
       "      <td>-0.721683</td>\n",
       "      <td>-0.781912</td>\n",
       "      <td>-0.268227</td>\n",
       "      <td>2</td>\n",
       "    </tr>\n",
       "    <tr>\n",
       "      <th>11</th>\n",
       "      <td>0.606604</td>\n",
       "      <td>-0.120465</td>\n",
       "      <td>0.569984</td>\n",
       "      <td>0</td>\n",
       "    </tr>\n",
       "    <tr>\n",
       "      <th>12</th>\n",
       "      <td>-0.493857</td>\n",
       "      <td>0.884909</td>\n",
       "      <td>1.667523</td>\n",
       "      <td>1</td>\n",
       "    </tr>\n",
       "    <tr>\n",
       "      <th>13</th>\n",
       "      <td>-1.017385</td>\n",
       "      <td>0.211125</td>\n",
       "      <td>-1.191170</td>\n",
       "      <td>2</td>\n",
       "    </tr>\n",
       "    <tr>\n",
       "      <th>14</th>\n",
       "      <td>-1.137429</td>\n",
       "      <td>0.134048</td>\n",
       "      <td>0.621531</td>\n",
       "      <td>1</td>\n",
       "    </tr>\n",
       "    <tr>\n",
       "      <th>15</th>\n",
       "      <td>0.964351</td>\n",
       "      <td>-1.236853</td>\n",
       "      <td>1.775477</td>\n",
       "      <td>0</td>\n",
       "    </tr>\n",
       "    <tr>\n",
       "      <th>16</th>\n",
       "      <td>-0.682430</td>\n",
       "      <td>-0.867787</td>\n",
       "      <td>1.446822</td>\n",
       "      <td>1</td>\n",
       "    </tr>\n",
       "    <tr>\n",
       "      <th>17</th>\n",
       "      <td>-0.623733</td>\n",
       "      <td>-0.374438</td>\n",
       "      <td>1.257044</td>\n",
       "      <td>1</td>\n",
       "    </tr>\n",
       "    <tr>\n",
       "      <th>18</th>\n",
       "      <td>0.850638</td>\n",
       "      <td>-0.310985</td>\n",
       "      <td>0.446895</td>\n",
       "      <td>0</td>\n",
       "    </tr>\n",
       "    <tr>\n",
       "      <th>19</th>\n",
       "      <td>-0.542460</td>\n",
       "      <td>0.284748</td>\n",
       "      <td>1.347408</td>\n",
       "      <td>1</td>\n",
       "    </tr>\n",
       "    <tr>\n",
       "      <th>20</th>\n",
       "      <td>-0.807725</td>\n",
       "      <td>0.366332</td>\n",
       "      <td>1.224213</td>\n",
       "      <td>1</td>\n",
       "    </tr>\n",
       "    <tr>\n",
       "      <th>21</th>\n",
       "      <td>-0.627546</td>\n",
       "      <td>1.232253</td>\n",
       "      <td>1.376614</td>\n",
       "      <td>1</td>\n",
       "    </tr>\n",
       "    <tr>\n",
       "      <th>22</th>\n",
       "      <td>-1.062980</td>\n",
       "      <td>0.060750</td>\n",
       "      <td>-1.299053</td>\n",
       "      <td>2</td>\n",
       "    </tr>\n",
       "    <tr>\n",
       "      <th>23</th>\n",
       "      <td>-0.647124</td>\n",
       "      <td>1.399844</td>\n",
       "      <td>0.183178</td>\n",
       "      <td>2</td>\n",
       "    </tr>\n",
       "    <tr>\n",
       "      <th>24</th>\n",
       "      <td>1.177181</td>\n",
       "      <td>0.201830</td>\n",
       "      <td>1.143771</td>\n",
       "      <td>0</td>\n",
       "    </tr>\n",
       "  </tbody>\n",
       "</table>\n",
       "</div>"
      ],
      "text/plain": [
       "          f1        f2        f3  output\n",
       "0  -0.849672 -1.440876  0.888389       1\n",
       "1   1.033341 -1.182318  1.185590       0\n",
       "2   1.033451  0.109403  1.468931       0\n",
       "3   1.067964 -0.203394  0.563078       0\n",
       "4  -1.739638  0.758806  1.228674       1\n",
       "5  -0.798291 -0.680678 -0.425414       2\n",
       "6   1.100185 -0.434957  0.980427       0\n",
       "7  -0.527062  0.621804  0.605636       2\n",
       "8  -0.864737  1.123412 -0.861191       2\n",
       "9  -1.189138  0.262467  0.623689       1\n",
       "10 -0.721683 -0.781912 -0.268227       2\n",
       "11  0.606604 -0.120465  0.569984       0\n",
       "12 -0.493857  0.884909  1.667523       1\n",
       "13 -1.017385  0.211125 -1.191170       2\n",
       "14 -1.137429  0.134048  0.621531       1\n",
       "15  0.964351 -1.236853  1.775477       0\n",
       "16 -0.682430 -0.867787  1.446822       1\n",
       "17 -0.623733 -0.374438  1.257044       1\n",
       "18  0.850638 -0.310985  0.446895       0\n",
       "19 -0.542460  0.284748  1.347408       1\n",
       "20 -0.807725  0.366332  1.224213       1\n",
       "21 -0.627546  1.232253  1.376614       1\n",
       "22 -1.062980  0.060750 -1.299053       2\n",
       "23 -0.647124  1.399844  0.183178       2\n",
       "24  1.177181  0.201830  1.143771       0"
      ]
     },
     "execution_count": 55,
     "metadata": {},
     "output_type": "execute_result"
    }
   ],
   "source": [
    "df = pd.DataFrame({},columns=[\"f1\",\"f2\",\"f3\",\"output\"])\n",
    "df.loc[:,\"output\"] = y\n",
    "df.iloc[:,:-1] = X\n",
    "df.head(25)"
   ]
  },
  {
   "cell_type": "code",
   "execution_count": 56,
   "metadata": {},
   "outputs": [],
   "source": [
    "import seaborn as sns"
   ]
  },
  {
   "cell_type": "code",
   "execution_count": 57,
   "metadata": {},
   "outputs": [
    {
     "data": {
      "text/plain": [
       "<matplotlib.axes._subplots.AxesSubplot at 0x1dcc13e3550>"
      ]
     },
     "execution_count": 57,
     "metadata": {},
     "output_type": "execute_result"
    },
    {
     "data": {
      "image/png": "[encoded data removed]",
      "text/plain": [
       "<Figure size 432x288 with 1 Axes>"
      ]
     },
     "metadata": {},
     "output_type": "display_data"
    }
   ],
   "source": [
    "sns.set()\n",
    "sns.scatterplot(data = df, x = \"f1\",y=\"f2\",hue=\"output\")"
   ]
  },
  {
   "cell_type": "code",
   "execution_count": 58,
   "metadata": {},
   "outputs": [],
   "source": [
    "from sklearn.svm import SVC #Support Vector Machine / Classifier"
   ]
  },
  {
   "cell_type": "code",
   "execution_count": 59,
   "metadata": {},
   "outputs": [
    {
     "data": {
      "text/plain": [
       "array([1, 0, 0, 0, 1, 2, 0, 1, 2, 1, 2, 0, 1, 2, 1, 0, 1, 1, 0, 1, 1, 1,\n",
       "       2, 2, 0, 2, 2, 2, 2, 1, 2, 0, 1, 1, 0, 2, 0, 2, 0, 1, 0, 1, 1, 1,\n",
       "       1, 2, 0, 0, 0, 2, 2, 2, 0, 0, 2, 0, 1, 1, 0, 2, 2, 0, 2, 0, 1, 1,\n",
       "       1, 1, 0, 0, 0, 2, 0, 1, 1, 0, 1, 2, 2, 0, 1, 0, 2, 2, 2, 1, 2, 1,\n",
       "       1, 1, 0, 2, 2, 0, 2, 0, 0, 0, 1, 1])"
      ]
     },
     "execution_count": 59,
     "metadata": {},
     "output_type": "execute_result"
    }
   ],
   "source": [
    "svc = SVC()\n",
    "svc.fit(X,y) #train\n",
    "y_predict = svc.predict(X) \n",
    "\n",
    "y_predict"
   ]
  },
  {
   "cell_type": "code",
   "execution_count": 60,
   "metadata": {},
   "outputs": [
    {
     "data": {
      "text/html": [
       "<div>\n",
       "<style scoped>\n",
       "    .dataframe tbody tr th:only-of-type {\n",
       "        vertical-align: middle;\n",
       "    }\n",
       "\n",
       "    .dataframe tbody tr th {\n",
       "        vertical-align: top;\n",
       "    }\n",
       "\n",
       "    .dataframe thead th {\n",
       "        text-align: right;\n",
       "    }\n",
       "</style>\n",
       "<table border=\"1\" class=\"dataframe\">\n",
       "  <thead>\n",
       "    <tr style=\"text-align: right;\">\n",
       "      <th></th>\n",
       "      <th>f1</th>\n",
       "      <th>f2</th>\n",
       "      <th>f3</th>\n",
       "      <th>output</th>\n",
       "      <th>prediction</th>\n",
       "    </tr>\n",
       "  </thead>\n",
       "  <tbody>\n",
       "    <tr>\n",
       "      <th>0</th>\n",
       "      <td>-0.849672</td>\n",
       "      <td>-1.440876</td>\n",
       "      <td>0.888389</td>\n",
       "      <td>1</td>\n",
       "      <td>1</td>\n",
       "    </tr>\n",
       "    <tr>\n",
       "      <th>1</th>\n",
       "      <td>1.033341</td>\n",
       "      <td>-1.182318</td>\n",
       "      <td>1.185590</td>\n",
       "      <td>0</td>\n",
       "      <td>0</td>\n",
       "    </tr>\n",
       "    <tr>\n",
       "      <th>2</th>\n",
       "      <td>1.033451</td>\n",
       "      <td>0.109403</td>\n",
       "      <td>1.468931</td>\n",
       "      <td>0</td>\n",
       "      <td>0</td>\n",
       "    </tr>\n",
       "    <tr>\n",
       "      <th>3</th>\n",
       "      <td>1.067964</td>\n",
       "      <td>-0.203394</td>\n",
       "      <td>0.563078</td>\n",
       "      <td>0</td>\n",
       "      <td>0</td>\n",
       "    </tr>\n",
       "    <tr>\n",
       "      <th>4</th>\n",
       "      <td>-1.739638</td>\n",
       "      <td>0.758806</td>\n",
       "      <td>1.228674</td>\n",
       "      <td>1</td>\n",
       "      <td>1</td>\n",
       "    </tr>\n",
       "    <tr>\n",
       "      <th>5</th>\n",
       "      <td>-0.798291</td>\n",
       "      <td>-0.680678</td>\n",
       "      <td>-0.425414</td>\n",
       "      <td>2</td>\n",
       "      <td>2</td>\n",
       "    </tr>\n",
       "    <tr>\n",
       "      <th>6</th>\n",
       "      <td>1.100185</td>\n",
       "      <td>-0.434957</td>\n",
       "      <td>0.980427</td>\n",
       "      <td>0</td>\n",
       "      <td>0</td>\n",
       "    </tr>\n",
       "    <tr>\n",
       "      <th>7</th>\n",
       "      <td>-0.527062</td>\n",
       "      <td>0.621804</td>\n",
       "      <td>0.605636</td>\n",
       "      <td>2</td>\n",
       "      <td>1</td>\n",
       "    </tr>\n",
       "    <tr>\n",
       "      <th>8</th>\n",
       "      <td>-0.864737</td>\n",
       "      <td>1.123412</td>\n",
       "      <td>-0.861191</td>\n",
       "      <td>2</td>\n",
       "      <td>2</td>\n",
       "    </tr>\n",
       "    <tr>\n",
       "      <th>9</th>\n",
       "      <td>-1.189138</td>\n",
       "      <td>0.262467</td>\n",
       "      <td>0.623689</td>\n",
       "      <td>1</td>\n",
       "      <td>1</td>\n",
       "    </tr>\n",
       "  </tbody>\n",
       "</table>\n",
       "</div>"
      ],
      "text/plain": [
       "         f1        f2        f3  output  prediction\n",
       "0 -0.849672 -1.440876  0.888389       1           1\n",
       "1  1.033341 -1.182318  1.185590       0           0\n",
       "2  1.033451  0.109403  1.468931       0           0\n",
       "3  1.067964 -0.203394  0.563078       0           0\n",
       "4 -1.739638  0.758806  1.228674       1           1\n",
       "5 -0.798291 -0.680678 -0.425414       2           2\n",
       "6  1.100185 -0.434957  0.980427       0           0\n",
       "7 -0.527062  0.621804  0.605636       2           1\n",
       "8 -0.864737  1.123412 -0.861191       2           2\n",
       "9 -1.189138  0.262467  0.623689       1           1"
      ]
     },
     "execution_count": 60,
     "metadata": {},
     "output_type": "execute_result"
    }
   ],
   "source": [
    "df.loc[:,\"prediction\"]=y_predict\n",
    "df.head(10)"
   ]
  },
  {
   "cell_type": "code",
   "execution_count": 61,
   "metadata": {},
   "outputs": [
    {
     "data": {
      "text/plain": [
       "<matplotlib.axes._subplots.AxesSubplot at 0x1dcc14a7630>"
      ]
     },
     "execution_count": 61,
     "metadata": {},
     "output_type": "execute_result"
    },
    {
     "data": {
      "image/png": "[encoded data removed]",
      "text/plain": [
       "<Figure size 432x288 with 1 Axes>"
      ]
     },
     "metadata": {},
     "output_type": "display_data"
    }
   ],
   "source": [
    "sns.regplot(data=df,x=\"output\",y=\"prediction\",fit_reg=True)\n"
   ]
  },
  {
   "cell_type": "markdown",
   "metadata": {},
   "source": [
    "### Split data"
   ]
  },
  {
   "cell_type": "code",
   "execution_count": 62,
   "metadata": {},
   "outputs": [],
   "source": [
    "from sklearn.model_selection import train_test_split"
   ]
  },
  {
   "cell_type": "code",
   "execution_count": 69,
   "metadata": {},
   "outputs": [
    {
     "data": {
      "text/plain": [
       "25"
      ]
     },
     "execution_count": 69,
     "metadata": {},
     "output_type": "execute_result"
    }
   ],
   "source": [
    "X_train, X_test,y_train,y_test = train_test_split(X,y,test_size=.25,)\n",
    "len(X_test)"
   ]
  },
  {
   "cell_type": "code",
   "execution_count": 79,
   "metadata": {},
   "outputs": [
    {
     "data": {
      "text/plain": [
       "array([2, 1, 2, 1, 0, 2, 1, 1, 1, 0, 1, 0, 0, 2, 1, 1, 0, 1, 0, 0, 1, 0,\n",
       "       0, 2, 2])"
      ]
     },
     "execution_count": 79,
     "metadata": {},
     "output_type": "execute_result"
    }
   ],
   "source": [
    "svc = SVC()\n",
    "svc.fit(X_train,y_train) #train\n",
    "y_predict = svc.predict(X_test) #predict\n",
    "y_train_predict = svc.predict(X_train)\n",
    "y_predict"
   ]
  },
  {
   "cell_type": "code",
   "execution_count": 71,
   "metadata": {},
   "outputs": [
    {
     "data": {
      "text/plain": [
       "array([2, 1, 2, 1, 0, 2, 1, 1, 1, 0, 2, 0, 0, 2, 2, 1, 0, 1, 0, 0, 1, 0,\n",
       "       0, 2, 2])"
      ]
     },
     "execution_count": 71,
     "metadata": {},
     "output_type": "execute_result"
    }
   ],
   "source": [
    "y_test"
   ]
  },
  {
   "cell_type": "code",
   "execution_count": 73,
   "metadata": {},
   "outputs": [
    {
     "data": {
      "text/html": [
       "<div>\n",
       "<style scoped>\n",
       "    .dataframe tbody tr th:only-of-type {\n",
       "        vertical-align: middle;\n",
       "    }\n",
       "\n",
       "    .dataframe tbody tr th {\n",
       "        vertical-align: top;\n",
       "    }\n",
       "\n",
       "    .dataframe thead th {\n",
       "        text-align: right;\n",
       "    }\n",
       "</style>\n",
       "<table border=\"1\" class=\"dataframe\">\n",
       "  <thead>\n",
       "    <tr style=\"text-align: right;\">\n",
       "      <th></th>\n",
       "      <th>f1</th>\n",
       "      <th>f2</th>\n",
       "      <th>f3</th>\n",
       "      <th>output</th>\n",
       "    </tr>\n",
       "  </thead>\n",
       "  <tbody>\n",
       "    <tr>\n",
       "      <th>0</th>\n",
       "      <td>-1.037718</td>\n",
       "      <td>-0.056824</td>\n",
       "      <td>-0.888933</td>\n",
       "      <td>2</td>\n",
       "    </tr>\n",
       "    <tr>\n",
       "      <th>1</th>\n",
       "      <td>-1.003671</td>\n",
       "      <td>-1.305727</td>\n",
       "      <td>1.262227</td>\n",
       "      <td>1</td>\n",
       "    </tr>\n",
       "    <tr>\n",
       "      <th>2</th>\n",
       "      <td>-1.362201</td>\n",
       "      <td>0.417302</td>\n",
       "      <td>-2.156492</td>\n",
       "      <td>2</td>\n",
       "    </tr>\n",
       "    <tr>\n",
       "      <th>3</th>\n",
       "      <td>-0.493857</td>\n",
       "      <td>0.884909</td>\n",
       "      <td>1.667523</td>\n",
       "      <td>1</td>\n",
       "    </tr>\n",
       "    <tr>\n",
       "      <th>4</th>\n",
       "      <td>1.033341</td>\n",
       "      <td>-1.182318</td>\n",
       "      <td>1.185590</td>\n",
       "      <td>0</td>\n",
       "    </tr>\n",
       "  </tbody>\n",
       "</table>\n",
       "</div>"
      ],
      "text/plain": [
       "         f1        f2        f3  output\n",
       "0 -1.037718 -0.056824 -0.888933       2\n",
       "1 -1.003671 -1.305727  1.262227       1\n",
       "2 -1.362201  0.417302 -2.156492       2\n",
       "3 -0.493857  0.884909  1.667523       1\n",
       "4  1.033341 -1.182318  1.185590       0"
      ]
     },
     "execution_count": 73,
     "metadata": {},
     "output_type": "execute_result"
    }
   ],
   "source": [
    "df = pd.DataFrame({},columns=[\"f1\",\"f2\",\"f3\",\"output\"])\n",
    "df.loc[:,\"output\"] = y_test\n",
    "df.iloc[:,:-1] = X_test\n",
    "df.head()"
   ]
  },
  {
   "cell_type": "code",
   "execution_count": 75,
   "metadata": {},
   "outputs": [
    {
     "data": {
      "text/html": [
       "<div>\n",
       "<style scoped>\n",
       "    .dataframe tbody tr th:only-of-type {\n",
       "        vertical-align: middle;\n",
       "    }\n",
       "\n",
       "    .dataframe tbody tr th {\n",
       "        vertical-align: top;\n",
       "    }\n",
       "\n",
       "    .dataframe thead th {\n",
       "        text-align: right;\n",
       "    }\n",
       "</style>\n",
       "<table border=\"1\" class=\"dataframe\">\n",
       "  <thead>\n",
       "    <tr style=\"text-align: right;\">\n",
       "      <th></th>\n",
       "      <th>f1</th>\n",
       "      <th>f2</th>\n",
       "      <th>f3</th>\n",
       "      <th>output</th>\n",
       "      <th>prediction</th>\n",
       "    </tr>\n",
       "  </thead>\n",
       "  <tbody>\n",
       "    <tr>\n",
       "      <th>0</th>\n",
       "      <td>-1.037718</td>\n",
       "      <td>-0.056824</td>\n",
       "      <td>-0.888933</td>\n",
       "      <td>2</td>\n",
       "      <td>2</td>\n",
       "    </tr>\n",
       "    <tr>\n",
       "      <th>1</th>\n",
       "      <td>-1.003671</td>\n",
       "      <td>-1.305727</td>\n",
       "      <td>1.262227</td>\n",
       "      <td>1</td>\n",
       "      <td>1</td>\n",
       "    </tr>\n",
       "    <tr>\n",
       "      <th>2</th>\n",
       "      <td>-1.362201</td>\n",
       "      <td>0.417302</td>\n",
       "      <td>-2.156492</td>\n",
       "      <td>2</td>\n",
       "      <td>2</td>\n",
       "    </tr>\n",
       "    <tr>\n",
       "      <th>3</th>\n",
       "      <td>-0.493857</td>\n",
       "      <td>0.884909</td>\n",
       "      <td>1.667523</td>\n",
       "      <td>1</td>\n",
       "      <td>1</td>\n",
       "    </tr>\n",
       "    <tr>\n",
       "      <th>4</th>\n",
       "      <td>1.033341</td>\n",
       "      <td>-1.182318</td>\n",
       "      <td>1.185590</td>\n",
       "      <td>0</td>\n",
       "      <td>0</td>\n",
       "    </tr>\n",
       "    <tr>\n",
       "      <th>5</th>\n",
       "      <td>-0.889477</td>\n",
       "      <td>1.622849</td>\n",
       "      <td>-0.689964</td>\n",
       "      <td>2</td>\n",
       "      <td>2</td>\n",
       "    </tr>\n",
       "    <tr>\n",
       "      <th>6</th>\n",
       "      <td>-1.089028</td>\n",
       "      <td>1.937529</td>\n",
       "      <td>0.989946</td>\n",
       "      <td>1</td>\n",
       "      <td>1</td>\n",
       "    </tr>\n",
       "    <tr>\n",
       "      <th>7</th>\n",
       "      <td>-1.165463</td>\n",
       "      <td>0.429526</td>\n",
       "      <td>0.935413</td>\n",
       "      <td>1</td>\n",
       "      <td>1</td>\n",
       "    </tr>\n",
       "    <tr>\n",
       "      <th>8</th>\n",
       "      <td>-0.627546</td>\n",
       "      <td>1.232253</td>\n",
       "      <td>1.376614</td>\n",
       "      <td>1</td>\n",
       "      <td>1</td>\n",
       "    </tr>\n",
       "    <tr>\n",
       "      <th>9</th>\n",
       "      <td>0.903945</td>\n",
       "      <td>0.502741</td>\n",
       "      <td>0.354134</td>\n",
       "      <td>0</td>\n",
       "      <td>0</td>\n",
       "    </tr>\n",
       "    <tr>\n",
       "      <th>10</th>\n",
       "      <td>-0.647124</td>\n",
       "      <td>1.399844</td>\n",
       "      <td>0.183178</td>\n",
       "      <td>2</td>\n",
       "      <td>1</td>\n",
       "    </tr>\n",
       "    <tr>\n",
       "      <th>11</th>\n",
       "      <td>0.850638</td>\n",
       "      <td>-0.310985</td>\n",
       "      <td>0.446895</td>\n",
       "      <td>0</td>\n",
       "      <td>0</td>\n",
       "    </tr>\n",
       "    <tr>\n",
       "      <th>12</th>\n",
       "      <td>0.821783</td>\n",
       "      <td>1.558806</td>\n",
       "      <td>1.189478</td>\n",
       "      <td>0</td>\n",
       "      <td>0</td>\n",
       "    </tr>\n",
       "    <tr>\n",
       "      <th>13</th>\n",
       "      <td>-0.721683</td>\n",
       "      <td>-0.781912</td>\n",
       "      <td>-0.268227</td>\n",
       "      <td>2</td>\n",
       "      <td>2</td>\n",
       "    </tr>\n",
       "    <tr>\n",
       "      <th>14</th>\n",
       "      <td>-0.484413</td>\n",
       "      <td>0.585910</td>\n",
       "      <td>0.434901</td>\n",
       "      <td>2</td>\n",
       "      <td>1</td>\n",
       "    </tr>\n",
       "  </tbody>\n",
       "</table>\n",
       "</div>"
      ],
      "text/plain": [
       "          f1        f2        f3  output  prediction\n",
       "0  -1.037718 -0.056824 -0.888933       2           2\n",
       "1  -1.003671 -1.305727  1.262227       1           1\n",
       "2  -1.362201  0.417302 -2.156492       2           2\n",
       "3  -0.493857  0.884909  1.667523       1           1\n",
       "4   1.033341 -1.182318  1.185590       0           0\n",
       "5  -0.889477  1.622849 -0.689964       2           2\n",
       "6  -1.089028  1.937529  0.989946       1           1\n",
       "7  -1.165463  0.429526  0.935413       1           1\n",
       "8  -0.627546  1.232253  1.376614       1           1\n",
       "9   0.903945  0.502741  0.354134       0           0\n",
       "10 -0.647124  1.399844  0.183178       2           1\n",
       "11  0.850638 -0.310985  0.446895       0           0\n",
       "12  0.821783  1.558806  1.189478       0           0\n",
       "13 -0.721683 -0.781912 -0.268227       2           2\n",
       "14 -0.484413  0.585910  0.434901       2           1"
      ]
     },
     "execution_count": 75,
     "metadata": {},
     "output_type": "execute_result"
    }
   ],
   "source": [
    "df.loc[:,\"prediction\"]=y_predict\n",
    "df.head(15)"
   ]
  },
  {
   "cell_type": "code",
   "execution_count": 76,
   "metadata": {},
   "outputs": [
    {
     "data": {
      "text/plain": [
       "<matplotlib.axes._subplots.AxesSubplot at 0x1dcc150c390>"
      ]
     },
     "execution_count": 76,
     "metadata": {},
     "output_type": "execute_result"
    },
    {
     "data": {
      "image/png": "[encoded data removed]",
      "text/plain": [
       "<Figure size 432x288 with 1 Axes>"
      ]
     },
     "metadata": {},
     "output_type": "display_data"
    }
   ],
   "source": [
    "sns.regplot(data=df,x=\"output\",y=\"prediction\",fit_reg=True)\n"
   ]
  },
  {
   "cell_type": "code",
   "execution_count": 78,
   "metadata": {},
   "outputs": [
    {
     "data": {
      "text/plain": [
       "<matplotlib.axes._subplots.AxesSubplot at 0x1dcc15e2c18>"
      ]
     },
     "execution_count": 78,
     "metadata": {},
     "output_type": "execute_result"
    },
    {
     "data": {
      "image/png": "[encoded data removed]",
      "text/plain": [
       "<Figure size 432x288 with 1 Axes>"
      ]
     },
     "metadata": {},
     "output_type": "display_data"
    }
   ],
   "source": [
    "sns.scatterplot(data = df, x = \"f3\",y=\"f2\",hue=\"output\")"
   ]
  },
  {
   "cell_type": "code",
   "execution_count": 80,
   "metadata": {},
   "outputs": [
    {
     "data": {
      "text/plain": [
       "0.8798718633208756"
      ]
     },
     "execution_count": 80,
     "metadata": {},
     "output_type": "execute_result"
    }
   ],
   "source": [
    "from sklearn.metrics import r2_score\n",
    "\n",
    "r2_score(y_train,y_train_predict)"
   ]
  },
  {
   "cell_type": "code",
   "execution_count": 81,
   "metadata": {},
   "outputs": [
    {
     "data": {
      "text/plain": [
       "0.8820754716981132"
      ]
     },
     "execution_count": 81,
     "metadata": {},
     "output_type": "execute_result"
    }
   ],
   "source": [
    "r2_score(y_test,y_predict)"
   ]
  },
  {
   "cell_type": "code",
   "execution_count": null,
   "metadata": {},
   "outputs": [],
   "source": []
  }
 ],
 "metadata": {
  "kernelspec": {
   "display_name": "Python 3",
   "language": "python",
   "name": "python3"
  },
  "language_info": {
   "codemirror_mode": {
    "name": "ipython",
    "version": 3
   },
   "file_extension": ".py",
   "mimetype": "text/x-python",
   "name": "python",
   "nbconvert_exporter": "python",
   "pygments_lexer": "ipython3",
   "version": "3.7.3"
  }
 },
 "nbformat": 4,
 "nbformat_minor": 2
}
